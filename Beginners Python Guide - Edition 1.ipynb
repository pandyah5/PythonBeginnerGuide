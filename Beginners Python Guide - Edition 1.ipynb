{
 "cells": [
  {
   "cell_type": "code",
   "execution_count": null,
   "metadata": {},
   "outputs": [],
   "source": [
    "print(\"Hello people, you are witnessing the rise of a legendary programmer!\")"
   ]
  },
  {
   "cell_type": "markdown",
   "metadata": {},
   "source": [
    "## Program to add two numbers"
   ]
  },
  {
   "cell_type": "code",
   "execution_count": null,
   "metadata": {},
   "outputs": [],
   "source": [
    "## Introduce variables \n",
    "x = int(input(\"Write a number here:-  \")) # This calls the user to provide an input\n",
    "y = int(input(\"Do that a second time:-  \"))\n",
    "print(\"\"\"The sum is:- \"\"\", x + y )\n",
    "\n",
    "## The input function always takes values as a string"
   ]
  },
  {
   "cell_type": "markdown",
   "metadata": {},
   "source": [
    "## Program to calculate volume of a cylinder"
   ]
  },
  {
   "cell_type": "code",
   "execution_count": null,
   "metadata": {},
   "outputs": [],
   "source": [
    "import math  # This brings in the math module/collection of mathematical constants and functions\n",
    "## We will now introduce a function for area\n",
    "def area(rad): # The things within the brackets are parameters\n",
    "    area = math.pi * (rad ** 2)\n",
    "    return area\n",
    "\n",
    "## Now using the area function we DEFine the volume function\n",
    "def vol(area, height): # Take care of the colons\n",
    "    vol = area * height # indenting 4 spaces is a convention\n",
    "    return vol\n",
    "\n",
    "print(\"Volume is equal to  \", vol(area(int(input(\"Write the radius here  \"))), int(input(\"Write the height \"))))\n",
    "\n",
    "\n"
   ]
  },
  {
   "cell_type": "markdown",
   "metadata": {},
   "source": [
    "## Program for billing an item"
   ]
  },
  {
   "cell_type": "code",
   "execution_count": null,
   "metadata": {},
   "outputs": [],
   "source": [
    "def bill(cost, tax_per, discount_per):\n",
    "    total = cost * (1 + (tax_per/100) - (discount_per/100)) \n",
    "    return total # A blank line indicates the end of a function\n",
    "\n",
    "print(\"Your total bill is  \", bill(int(input(\"Cost \")), \n",
    "        int(input(\"Tax percentage  \")), int(input(\"Discount percentage \"))))\n"
   ]
  },
  {
   "cell_type": "markdown",
   "metadata": {},
   "source": [
    "## Program to calculate resistance of a wire"
   ]
  },
  {
   "cell_type": "code",
   "execution_count": null,
   "metadata": {},
   "outputs": [],
   "source": [
    "def res(lent, area, rho): # We used lent instead of len as the latter is a reserved keyword in python\n",
    "    ans = (rho * lent)/area\n",
    "    return ans\n",
    "\n",
    "lent = int(input(\"Give the length in metres  \"))\n",
    "area = int(input(\"Give the area in metre squared  \"))\n",
    "rho = int(input(\"Give the resistivity in ohm metre  \"))\n",
    "print(\"Resistance is \", res(lent, area, rho), \"ohm\")\n",
    "## It is recommended to use simple and small names for variables and parametres"
   ]
  },
  {
   "cell_type": "markdown",
   "metadata": {},
   "source": [
    "## Program for the range of a projectile"
   ]
  },
  {
   "cell_type": "code",
   "execution_count": null,
   "metadata": {},
   "outputs": [],
   "source": [
    "import math\n",
    "def proj(vel, theta):\n",
    "    dist = ((pow(vel, 2) * math.sin((2 * ((theta) / 180 * math.pi)))) / 9.8) # Remember to change degrees to radians\n",
    "    return dist # Why did we not use the word range? Because it is a RESERVED KEYWORD!\n",
    "\n",
    "vel = int(input(\"Provide the velocity in m/sec \"))\n",
    "theta = int(input(\"Provide the angle with the horizontal in degrees  \")) # The word 'horizontal' is needed for mathematical accuracy\n",
    "print(\" The range is  \", proj(vel, theta), \"m\")"
   ]
  },
  {
   "cell_type": "code",
   "execution_count": null,
   "metadata": {},
   "outputs": [],
   "source": [
    "## Errors are of two types \n",
    "# Syntax error - When you dont follow the rules of python\n",
    "# Name error - When the computer cannot find the name in its memmory\n",
    "# EOL = End of line\n",
    "# EOF = End of file"
   ]
  },
  {
   "cell_type": "code",
   "execution_count": null,
   "metadata": {},
   "outputs": [],
   "source": [
    "## ASCII art is art using characters in programming"
   ]
  },
  {
   "cell_type": "code",
   "execution_count": null,
   "metadata": {},
   "outputs": [],
   "source": [
    "# This is an example\n",
    "print(\"-\")       \n",
    "print(\" -\")\n",
    "print(\"  -\")\n",
    "print(\"   -\")\n",
    "print(\"    -\")\n",
    "print(\"     -\")\n",
    "print(\"    -\")\n",
    "print(\"   -\")\n",
    "print(\"  -\")\n",
    "print(\" -\")\n",
    "print(\"-\")\n",
    "print(\" -\")\n",
    "print(\"  -\")\n",
    "print(\"   -\")\n",
    "print(\"    -\")\n",
    "print(\"     -\")\n",
    "print(\"    -\")\n",
    "print(\"   -\")\n",
    "print(\"  -\")\n",
    "print(\" -\")\n",
    "print(\"-\")"
   ]
  },
  {
   "cell_type": "markdown",
   "metadata": {},
   "source": [
    "## Program to find the area of a triangle"
   ]
  },
  {
   "cell_type": "code",
   "execution_count": null,
   "metadata": {},
   "outputs": [],
   "source": [
    "## We will use Herons Formula in this program\n",
    "import math\n",
    "def area(a, b, c):\n",
    "    \"\"\" The function area calculates the area of a triangle using herons formula given its three sides\n",
    "         Prametres -\n",
    "         Sides a, b and c in metres\n",
    "         Caution -\n",
    "         Do not enter sides that can not form a triangle\n",
    "         Output -\n",
    "         Area in metre squared\"\"\"\n",
    "    s = (a + b + c)/2 # This is the Semiperimeter\n",
    "    if a + b > c and b + c > a and a + c > b:\n",
    "        return math.sqrt(s * (s-a) * (s-b) * (s-c))\n",
    "    else:\n",
    "        return \"It is not a triangle\"\n",
    "\n",
    "a = int(input(\"Write first side  \"))\n",
    "b = int(input(\"Write second side  \"))\n",
    "c = int(input(\"Write third side  \"))\n",
    "print(area(a, b, c))\n",
    "## You need to account for each and every case so that your program is robust"
   ]
  },
  {
   "cell_type": "code",
   "execution_count": null,
   "metadata": {
    "scrolled": true
   },
   "outputs": [],
   "source": [
    "print(area.__doc__)\n",
    "## This is how we call a docstring of any pre defined or user defined functions"
   ]
  },
  {
   "cell_type": "code",
   "execution_count": null,
   "metadata": {},
   "outputs": [],
   "source": [
    "## We will now see boolean string functions\n",
    "print(\"Python\".isalpha())\n",
    "print(\"Python \".isalpha())\n",
    "print(\"3rd\".isalnum()) # alnum - alpha numric (alphabet OR number) data type\n",
    "print(\"Save\".startswith(\"S\")) # Remember it is case sensitive\n",
    "print(\"The End\".istitle())  # This checks if the starting letter of each word is capital or not\n",
    "print(\"HEY\".islower())\n",
    "print(\"HELLO\".isupper())\n",
    "print(\"68837\".isdigit())\n",
    "## Learn them they do come in handy\n"
   ]
  },
  {
   "cell_type": "code",
   "execution_count": null,
   "metadata": {},
   "outputs": [],
   "source": [
    "print(\"Its time to sleep, Mom says\".upper())\n",
    "print(\"Its time to sleep, Mom says\".lower())\n",
    "print(\"Its time to sleep, Mom says\".capitalize())\n",
    "print(\"Its time to sleep, Mom says\".title())\n",
    "print(\"Its time to sleep, Mom says\".swapcase())"
   ]
  },
  {
   "cell_type": "markdown",
   "metadata": {},
   "source": [
    "## Program to find what is on the menu"
   ]
  },
  {
   "cell_type": "code",
   "execution_count": null,
   "metadata": {},
   "outputs": [],
   "source": [
    "Menu = \"Pizza, burger, chash, roti, milk, butter, cheese\"\n",
    "print(Menu)\n",
    "\n",
    "order = input(\"Your order please \")\n",
    "\n",
    "\n",
    "print(\"Pizza is in the order \", \"pizza\" in order.lower())\n",
    "print(\"Burger is in the order \",\"burger\" in order.lower())\n",
    "print(\"Chash is in the order \",\"chash\" in order.lower())\n",
    "print(\"Roti is in the order \",\"roti\" in order.lower())\n",
    "print(\"Milk is in the order \",\"milk\" in order.lower())\n",
    "print(\"Butter is in the order \",\"butter\" in order.lower())\n",
    "print(\"Cheese is in the order \",\"cheese\" in order.lower())"
   ]
  },
  {
   "cell_type": "markdown",
   "metadata": {},
   "source": [
    "## Program to calculate resonance frequency and band width"
   ]
  },
  {
   "cell_type": "code",
   "execution_count": null,
   "metadata": {},
   "outputs": [],
   "source": [
    "## We will not use a function here\n",
    "import math\n",
    "L = int(input(\"Inductance in henry  \"))\n",
    "C = int(input(\"Capacitance in faraday  \"))\n",
    "R = int(input(\"Resistance in ohm  \"))\n",
    "O = int(input(\"Angular frequency in rad/sec  \"))\n",
    "Rf = (1 / math.sqrt(L * C))  # Learn physics to understand this :)\n",
    "Bw = (O * L) / R\n",
    "print(\"Resonance frequency is \", Rf)\n",
    "print(\"Bandwidth is \", Bw)\n"
   ]
  },
  {
   "cell_type": "markdown",
   "metadata": {},
   "source": [
    "## An example from EDX"
   ]
  },
  {
   "cell_type": "code",
   "execution_count": null,
   "metadata": {},
   "outputs": [],
   "source": [
    "## Test in EDX\n",
    "def low_case(words_in):\n",
    "    return words_in.lower()\n",
    "\n",
    "words_lower = low_case(\"Return THIS lower\")\n",
    "print(words_lower)"
   ]
  },
  {
   "cell_type": "markdown",
   "metadata": {},
   "source": [
    "## Program to find whether a number is prime or not"
   ]
  },
  {
   "cell_type": "code",
   "execution_count": null,
   "metadata": {},
   "outputs": [],
   "source": [
    "def prime(num):\n",
    "    factor = 2    # It is important to initialize factor from 2\n",
    "    while num % factor != 0 and factor <= num: \n",
    "          factor += 1  # += mean the same as = factor + \n",
    "    return factor == num # two = represent equality\n",
    "\n",
    "a = int(input(\"Write a number here  \"))\n",
    "print(a, \"is a prime number - \", prime(a)) # This is not string concatenation, we used comma not +\n"
   ]
  },
  {
   "cell_type": "markdown",
   "metadata": {},
   "source": [
    "## Program to find factors of a given number"
   ]
  },
  {
   "cell_type": "code",
   "execution_count": null,
   "metadata": {},
   "outputs": [],
   "source": [
    "def factor(num):\n",
    "    divisor = 1\n",
    "    List = \"\"\n",
    "    while divisor <= num:\n",
    "        if num % divisor != 0:\n",
    "            divisor += 1\n",
    "        elif num % divisor == 0:\n",
    "            List = List + str(divisor) + \",\" \n",
    "            divisor += 1\n",
    "        else:\n",
    "            print(\"Error\")\n",
    "    return List\n",
    "            \n",
    "a = int(input(\"Write a number :- \"))\n",
    "print(\"Its factors are :- \",factor(a))"
   ]
  },
  {
   "cell_type": "code",
   "execution_count": null,
   "metadata": {},
   "outputs": [],
   "source": [
    "## Note students strings can also be compared using boolean relations eg.\n",
    "print(\"Hello\" > \"Apple\")  # Alphabetization\n",
    "print(\"apple\" > \"Apple\")  # This is because of the conventional UNICODE python uses\n",
    "print(\"apples\" > \"5 apples\") # Unicode is responsible here too"
   ]
  },
  {
   "cell_type": "markdown",
   "metadata": {},
   "source": [
    "## Program to calculate attributes of freely falling object "
   ]
  },
  {
   "cell_type": "code",
   "execution_count": null,
   "metadata": {},
   "outputs": [],
   "source": [
    "## To calculate the distance travelled\n",
    "def dist(vel1, time):\n",
    "    a = (vel1 * time) + (.5 * 9.8 * (time ** 2))\n",
    "    return a\n",
    "\n",
    "## To Calculate the final velocity\n",
    "def vel2(vel1, time):\n",
    "    b = vel1 + ( 9.8 * time )\n",
    "    return b\n",
    "\n",
    "## To calculate the kinetic energy\n",
    "def kinetic(velo, mass):\n",
    "    k = 0.5 * mass * (velo ** 2)\n",
    "    return k\n",
    "\n",
    "u = int(input(\"Initial velocity  \"))\n",
    "t = int(input(\"Time from start  \"))\n",
    "m = int(input(\"Mass of object  \"))\n",
    "print(\"Distance travelled  \", dist(u, t),\"\\nFinal velocity  \", vel2(u, t),\"\\nKinetic energy  \", kinetic(vel2(u, t), m) )\n",
    "## \\n starts a new line\n",
    "\n"
   ]
  },
  {
   "cell_type": "markdown",
   "metadata": {},
   "source": [
    "## Program for my Mom's birthday"
   ]
  },
  {
   "cell_type": "code",
   "execution_count": null,
   "metadata": {},
   "outputs": [],
   "source": [
    "print(\"What's the date today , yell it out loud!!!\")\n",
    "print(\"That's right its 4th October, it's my moms BIRTHDAY\")\n",
    "print(\"\"\" \n",
    "H    H       A       PPPPP  PPPPP  Y     Y\n",
    "H    H      A A      P   P  P   P   Y   Y \n",
    "HHHHHH     A   A     PPPPP  PPPPP    Y Y\n",
    "H    H    A A A A    P      P         Y \n",
    "H    H   A       A   P      P         Y     \"\"\")\n",
    "\n",
    "print(\"\"\"\n",
    "BBBBB  IIIIIII  RRRRR TTTTTTT  H    H  DDDDD      A    Y     Y\n",
    "B   B     I     R   R    T     H    H  D    D    A A    Y   Y\n",
    "BBBBB     I     RRRRR    T     HHHHHH  D    D   A   A    Y Y\n",
    "B   B     I     R R      T     H    H  D    D  AAAAAAA    Y\n",
    "BBBBB  IIIIIII  R   R    T     H    H  DDDDD  A       A   Y    \"\"\")\n",
    "\n",
    "print(\"\"\" \n",
    "TTTTTTT  OOOOO       Y     Y  OOOOO    U    U     !\n",
    "   T    O     O       Y   Y  O     O   U    U     !\n",
    "   T    O     O        Y Y   O     O   U    U     !\n",
    "   T    O     O         Y    O     O   U    U     !\n",
    "   T     OOOOO          Y     OOOOO    UUUUUU     O  \"\"\")  \n",
    "\n",
    "## Isn't that a good ASCII art piece \n",
    "## Be creative, Be innovative, BE YOU!!!"
   ]
  },
  {
   "cell_type": "markdown",
   "metadata": {},
   "source": [
    "## Program for finding factorials"
   ]
  },
  {
   "cell_type": "code",
   "execution_count": null,
   "metadata": {},
   "outputs": [],
   "source": [
    "## Basically factorial is a repetitive multiplication of a given number with all the numbers lower than it\n",
    "def factorial(num):\n",
    "    num1 = 1\n",
    "    ans = num\n",
    "    while num1 < num:\n",
    "        ans = ans * num1\n",
    "        num1 += 1\n",
    "    return ans\n",
    "\n",
    "a = int(input(\"Write a number here  \"))\n",
    "print(\"The factorial of\", a, \"is\", factorial(a))\n",
    "## Moment of pride - 78! gives an error in the scientific calculator but not in my program, Buyakasha!!!"
   ]
  },
  {
   "cell_type": "code",
   "execution_count": null,
   "metadata": {},
   "outputs": [],
   "source": [
    "## Now let's implemeny a knew concept of recursion\n",
    "## Recursion is a process of calling a function within the function\n",
    "## Confused?? Let's see an example"
   ]
  },
  {
   "cell_type": "markdown",
   "metadata": {},
   "source": [
    "## Factorial function using recursion"
   ]
  },
  {
   "cell_type": "code",
   "execution_count": null,
   "metadata": {},
   "outputs": [],
   "source": [
    "def factRecur(number):\n",
    "    if (number == 0 or number == 1):\n",
    "        return 1\n",
    "    else:\n",
    "        return number * factRecur(number - 1) # Because n! = n * (n - 1)!\n",
    "factRecur(6)"
   ]
  },
  {
   "cell_type": "markdown",
   "metadata": {},
   "source": [
    "## Program to guess a number"
   ]
  },
  {
   "cell_type": "code",
   "execution_count": null,
   "metadata": {},
   "outputs": [],
   "source": [
    "\n",
    "def guess(num):\n",
    "    secret = 57\n",
    "    while num != secret:\n",
    "        if 0 < num < secret:\n",
    "            return guess(int(input(\"Go a bit higher  \")))\n",
    "        elif 100 > num > secret:\n",
    "            return guess(int(input(\"Cut down a little  \")))\n",
    "        else: \n",
    "            return \" Abide by the rules :( \"\n",
    "    return \"You got the right number\"    \n",
    "    \n",
    "a = int(input(\"Guess a number between 1-100 both inclusive:  \"))\n",
    "print(guess(a))"
   ]
  },
  {
   "cell_type": "markdown",
   "metadata": {},
   "source": [
    "## Program to detect double spaces in an essay"
   ]
  },
  {
   "cell_type": "code",
   "execution_count": null,
   "metadata": {},
   "outputs": [],
   "source": [
    "def aif(essay):\n",
    "    index = 0\n",
    "    while essay[index:index + 2] != \"  \" and index <= len(essay):\n",
    "          index += 1\n",
    "    return index\n",
    "\n",
    "essay = input(\"Upload you essay here -  \")\n",
    "\n",
    "def review(string, length):\n",
    "    if length == string - 1:\n",
    "        return \"Your essay is error less\"\n",
    "    else:\n",
    "        return \"Your essay has a space error at \", essay[int(string) - 5:int(string) + 5]\n",
    "    \n",
    "    \n",
    "print(review(aif(essay), len(essay)))"
   ]
  },
  {
   "cell_type": "code",
   "execution_count": null,
   "metadata": {},
   "outputs": [],
   "source": [
    "print(\"\\\\\\\\\\\\\\\\\")\n",
    "## This is how to use backslash also called escape character"
   ]
  },
  {
   "cell_type": "markdown",
   "metadata": {},
   "source": [
    "## Program to modify text into quotes"
   ]
  },
  {
   "cell_type": "code",
   "execution_count": null,
   "metadata": {},
   "outputs": [],
   "source": [
    "text = input(\"Write something  \")\n",
    "person = input(\"Who said these words  \")\n",
    "print(\" \\\" \",text.capitalize(), \" \\\" \" ,\"-\", person.title() )"
   ]
  },
  {
   "cell_type": "markdown",
   "metadata": {},
   "source": [
    "## Program for shirt order"
   ]
  },
  {
   "cell_type": "code",
   "execution_count": null,
   "metadata": {},
   "outputs": [],
   "source": [
    "print(\"color - Red, Blue, Yellow, Green, Black\")\n",
    "## size - S - 200, M - 350, L - 500\n",
    "print(\"Sizes - Small, Medium, Large\")\n",
    "color = input(\"Choose a color \")\n",
    "size = input(\"Choose your size  \")\n",
    "def shirt(color):\n",
    "    if color.lower() == \"red\":\n",
    "        return print(\"Red, that's a symbol of power\")\n",
    "    elif color.lower == \"blue\":\n",
    "        return \"Blue like the ocean, Huh!\"\n",
    "    elif color.lower() == \"yellow\":\n",
    "        return \"That's a trending color!\"\n",
    "    elif color.lower() == \"green\":\n",
    "        return \"Go green\"\n",
    "    else:\n",
    "        return \"Black is the new class\"\n",
    "    \n",
    "print(shirt(color))\n",
    "\n",
    "    "
   ]
  },
  {
   "cell_type": "markdown",
   "metadata": {},
   "source": [
    "## Program \"Keep on adding\""
   ]
  },
  {
   "cell_type": "code",
   "execution_count": null,
   "metadata": {},
   "outputs": [],
   "source": [
    "def add_on(num = \"0\"):\n",
    "    ans = 0\n",
    "    while num.isdigit() == True:\n",
    "        ans += int(num)\n",
    "        num = input(\"Write a number to add  \")\n",
    "        print (\"The sum is  \", ans)\n",
    "    print (\"Over!, the total is \", ans )\n",
    "    \n",
    "print(add_on())\n",
    "        \n",
    "        \n",
    "        "
   ]
  },
  {
   "cell_type": "markdown",
   "metadata": {},
   "source": [
    "## Program for Fish Store"
   ]
  },
  {
   "cell_type": "code",
   "execution_count": null,
   "metadata": {},
   "outputs": [],
   "source": [
    "def fishstore(fish, price):\n",
    "    return print(\"Fish Type:\",fish,\"costs $\" + price)\n",
    "\n",
    "fishstore(input(\"enter a fish name: \"), input(\"enter the fish price (no symbols): \"))\n",
    "    "
   ]
  },
  {
   "cell_type": "markdown",
   "metadata": {},
   "source": [
    "## Program for ordering cheese"
   ]
  },
  {
   "cell_type": "code",
   "execution_count": null,
   "metadata": {},
   "outputs": [],
   "source": [
    "maximum_order = 100\n",
    "minimum_order = 0.25\n",
    "price = 7.99\n",
    "order_amount = float(input(\"Enter cheese order weight (numeric value): \"))\n",
    "if order_amount < minimum_order:\n",
    "    print (order_amount,\"is below minimum order amount\")\n",
    "elif order_amount > maximum_order:\n",
    "    print(order_amount,\"is more than currently available stock\")\n",
    "else:\n",
    "    print(order_amount,\"costs $\",(price * order_amount))\n",
    "    \n",
    "    \n",
    "    "
   ]
  },
  {
   "cell_type": "markdown",
   "metadata": {},
   "source": [
    "## Program for allergy check"
   ]
  },
  {
   "cell_type": "code",
   "execution_count": null,
   "metadata": {},
   "outputs": [],
   "source": [
    "input_test = input(\"enter food categories eaten in last 24 hrs: \")\n",
    "print(\"It is\",\"dairy\" in input_test.lower(),\"that\",'\"',input_test,'\"','contains \"dairy\"')\n",
    "print(\"It is\",\"nuts\" in input_test.lower(),\"that\",'\"',input_test,'\"','contains \"nuts\"')\n",
    "print(\"It is\",\"seafood\" in input_test.lower(),\"that\",'\"',input_test,'\"','contains \"seafood\"')\n",
    "print(\"It is\",\"chocolate\" in input_test.lower(),\"that\",'\"',input_test,'\"','contains \"chocolate\"')"
   ]
  },
  {
   "cell_type": "markdown",
   "metadata": {},
   "source": [
    "## Program for string analysis"
   ]
  },
  {
   "cell_type": "code",
   "execution_count": null,
   "metadata": {},
   "outputs": [],
   "source": [
    "def str_analysis(string = \"\"):\n",
    "    while string == \"\":\n",
    "        string = input(\"Enter word or integer: \")\n",
    "    if string.isalpha() or string.isdigit():\n",
    "        if string.isdigit():\n",
    "            if int(string) > 99:\n",
    "                print(string + \" it is a pretty big number\")\n",
    "            else:\n",
    "                print(string + \" is a smaller number than expected\")\n",
    "        else: \n",
    "            print('\"',string,'\"',\"is all alphabetical characters!\")\n",
    "    else:\n",
    "        print('\"',string,'\"',\"is a surprise! It's neither all alpha nor all digit character!\")\n",
    "        \n",
    "str_analysis()\n",
    "        \n",
    "    "
   ]
  },
  {
   "cell_type": "markdown",
   "metadata": {},
   "source": [
    "## Program to form an adding report"
   ]
  },
  {
   "cell_type": "code",
   "execution_count": null,
   "metadata": {},
   "outputs": [],
   "source": [
    "def adding_report(resp = \"\"):\n",
    "    print('Report Types include All Items (\"A\") or Total Only (\"T\")')\n",
    "    resp = input('Choose Report Type (\"A\" or \"T\"):')\n",
    "    while True:\n",
    "        if resp.lower() == \"t\":\n",
    "            total = 0\n",
    "            print('\\nInput an integer to add to the total or \"Q\" to quit ')\n",
    "            resp1 = input('Enter an integer or \"Q\": ')\n",
    "            while resp1[0].lower() != \"q\":\n",
    "                if resp1.isdigit():\n",
    "                    total += int(resp1)\n",
    "                    resp1 = input('Enter an integer or \"Q\": ')\n",
    "                else:\n",
    "                    print(resp1,\"is invalid input\")\n",
    "                    resp1 = input('Enter an integer or \"Q\": ')\n",
    "            print(\"\\nTotal \\n\" + str(total))\n",
    "            break\n",
    "        elif resp.lower() == \"a\":\n",
    "            total1 = 0\n",
    "            item = \"\"\n",
    "            print('\\nInput an integer to add to the total or \"Q\" to quit ')\n",
    "            resp2 = input('Enter an integer or \"Q\": ')\n",
    "            while resp2[0].lower() != \"q\":\n",
    "                if resp2.isdigit():\n",
    "                    total1 += int(resp2)\n",
    "                    item = item + \"\\n\" + resp2\n",
    "                    resp2 = input('Enter an integer or \"Q\": ')\n",
    "                else:\n",
    "                    print(resp2,\"is invalid input\")\n",
    "                    resp2 = input('Enter an integer or \"Q\": ')\n",
    "            print(\"\"\"\\nItems\"\"\",item,\"\\n\\nTotal\\n\" + str(total1))\n",
    "            break\n",
    "        else: \n",
    "            print(resp, \"is invalid input\")\n",
    "            resp = input('Choose Report Type (\"A\" or \"T\"):')\n",
    "            \n",
    "        \n",
    "adding_report()\n",
    "            "
   ]
  },
  {
   "cell_type": "markdown",
   "metadata": {},
   "source": [
    "### This was the last problem in Edx beginner course for python which I took years ago"
   ]
  },
  {
   "cell_type": "code",
   "execution_count": null,
   "metadata": {},
   "outputs": [],
   "source": [
    "def adding_report(resp = \"\"):\n",
    "    while True:\n",
    "        resp = input('Choose Report Type (\"A\" or \"T\"):')\n",
    "        print('Report Types include All Items (\"A\") or Total Only (\"T\")')\n",
    "        if resp.lower() == \"t\":\n",
    "            total = 0\n",
    "            print('\\nInput an integer to add to the total or \"Q\" to quit ')\n",
    "            resp1 = input('Enter an integer or \"Q\": ')\n",
    "            while resp1[0].lower() != \"q\":\n",
    "                if resp1.isdigit():\n",
    "                    total += int(resp1)\n",
    "                    resp1 = input('Enter an integer or \"Q\": ')\n",
    "                else:\n",
    "                    print(resp1,\"is invalid input\")\n",
    "                    resp1 = input('Enter an integer or \"Q\": ')\n",
    "            print(\"\\nTotal \\n\" + str(total))\n",
    "            break\n",
    "        elif resp.lower() == \"a\":\n",
    "            total1 = 0\n",
    "            item = \"\"\n",
    "            print('Input an integer to add to the total or \"Q\" to quit ')\n",
    "            resp2 = input('Enter an integer or \"Q\": ')\n",
    "            while resp2[0].lower() != \"q\":\n",
    "                if resp2.isdigit():\n",
    "                    total1 += int(resp2)\n",
    "                    item = item + \"\\n\" + resp2\n",
    "                    resp2 = input('Enter an integer or \"Q\": ')\n",
    "                else:\n",
    "                    print(resp2,\"is invalid input\")\n",
    "                    resp2 = input('Enter an integer or \"Q\": ')\n",
    "            print(\"\"\"\\nItems\"\"\",item,\"\\n\\nTotal\\n\" + str(total1))\n",
    "            break\n",
    "        else: \n",
    "            print(resp, \"is invalid input\")\n",
    "            resp = input('Choose Report Type (\"A\" or \"T\"):')\n",
    "        \n",
    "adding_report()"
   ]
  }
 ],
 "metadata": {
  "kernelspec": {
   "display_name": "Python 3",
   "language": "python",
   "name": "python3"
  },
  "language_info": {
   "codemirror_mode": {
    "name": "ipython",
    "version": 3
   },
   "file_extension": ".py",
   "mimetype": "text/x-python",
   "name": "python",
   "nbconvert_exporter": "python",
   "pygments_lexer": "ipython3",
   "version": "3.7.4"
  }
 },
 "nbformat": 4,
 "nbformat_minor": 2
}
